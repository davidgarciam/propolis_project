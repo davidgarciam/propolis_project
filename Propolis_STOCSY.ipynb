{
 "cells": [
  {
   "cell_type": "code",
   "execution_count": 7,
   "metadata": {},
   "outputs": [
    {
     "data": {
      "text/html": [
       "<ol class=list-inline>\n",
       "\t<li>123</li>\n",
       "\t<li>18</li>\n",
       "</ol>\n"
      ],
      "text/latex": [
       "\\begin{enumerate*}\n",
       "\\item 123\n",
       "\\item 18\n",
       "\\end{enumerate*}\n"
      ],
      "text/markdown": [
       "1. 123\n",
       "2. 18\n",
       "\n",
       "\n"
      ],
      "text/plain": [
       "[1] 123  18"
      ]
     },
     "metadata": {},
     "output_type": "display_data"
    },
    {
     "data": {
      "text/html": [
       "<table>\n",
       "<thead><tr><th scope=col>SampleID</th><th scope=col>SampleNMR</th><th scope=col>Date_YMD</th><th scope=col>Probe</th><th scope=col>Shims</th><th scope=col>RG</th><th scope=col>Type</th><th scope=col>Folder</th><th scope=col>Origen</th><th scope=col>Zona</th><th scope=col>Type3</th><th scope=col>Type2</th><th scope=col>Color</th><th scope=col>R</th><th scope=col>G</th><th scope=col>B</th><th scope=col>Extracto</th><th scope=col>Resinas..</th></tr></thead>\n",
       "<tbody>\n",
       "\t<tr><td>M46           </td><td>PRO046B_PRO   </td><td>190205        </td><td>2             </td><td>              </td><td>64            </td><td>              </td><td>32            </td><td>Santander     </td><td>bh-PM         </td><td>0             </td><td>2             </td><td>reddish_brown </td><td>115           </td><td>  2           </td><td> 0            </td><td>5,48          </td><td>ND            </td></tr>\n",
       "\t<tr><td>M47           </td><td>PRO047A_PRO   </td><td>190205        </td><td>2             </td><td>              </td><td>50,8          </td><td>              </td><td>32            </td><td>Santander     </td><td>bh-PM         </td><td>0             </td><td>2             </td><td>reddish_yellow</td><td>246           </td><td> 99           </td><td> 1            </td><td>4,23          </td><td>65            </td></tr>\n",
       "\t<tr><td>M47           </td><td>PRO047B_PRO   </td><td>190205        </td><td>2             </td><td>              </td><td>45,2          </td><td>              </td><td>32            </td><td>Santander     </td><td>bh-PM         </td><td>0             </td><td>2             </td><td>reddish_yellow</td><td>246           </td><td> 99           </td><td> 1            </td><td>4,23          </td><td>65            </td></tr>\n",
       "\t<tr><td>M48           </td><td>PRO048A_PRO   </td><td>190118        </td><td>2             </td><td>              </td><td>60,5          </td><td>              </td><td>32            </td><td>Casanare      </td><td>bh-T          </td><td>0             </td><td>2             </td><td>yellow        </td><td>162           </td><td>133           </td><td>54            </td><td>7,74          </td><td>14            </td></tr>\n",
       "\t<tr><td>M25           </td><td>PRO025A_PRO   </td><td>180917        </td><td>1             </td><td>              </td><td>90,5          </td><td>              </td><td>22            </td><td>Tolima        </td><td>bh-T          </td><td>0             </td><td>2             </td><td>light_yellow  </td><td>108           </td><td>102           </td><td>68            </td><td>3,58          </td><td>0             </td></tr>\n",
       "\t<tr><td>M44           </td><td>PRO044A_C     </td><td>190206        </td><td>2             </td><td>              </td><td>64            </td><td>C             </td><td>22            </td><td>Brasil        </td><td>BRA           </td><td>0             </td><td>1             </td><td>red           </td><td>115           </td><td>  2           </td><td> 0            </td><td>11,51         </td><td>ND            </td></tr>\n",
       "</tbody>\n",
       "</table>\n"
      ],
      "text/latex": [
       "\\begin{tabular}{r|llllllllllllllllll}\n",
       " SampleID & SampleNMR & Date\\_YMD & Probe & Shims & RG & Type & Folder & Origen & Zona & Type3 & Type2 & Color & R & G & B & Extracto & Resinas..\\\\\n",
       "\\hline\n",
       "\t M46              & PRO046B\\_PRO    & 190205           & 2                &                  & 64               &                  & 32               & Santander        & bh-PM            & 0                & 2                & reddish\\_brown  & 115              &   2              &  0               & 5,48             & ND              \\\\\n",
       "\t M47              & PRO047A\\_PRO    & 190205           & 2                &                  & 50,8             &                  & 32               & Santander        & bh-PM            & 0                & 2                & reddish\\_yellow & 246              &  99              &  1               & 4,23             & 65              \\\\\n",
       "\t M47              & PRO047B\\_PRO    & 190205           & 2                &                  & 45,2             &                  & 32               & Santander        & bh-PM            & 0                & 2                & reddish\\_yellow & 246              &  99              &  1               & 4,23             & 65              \\\\\n",
       "\t M48            & PRO048A\\_PRO  & 190118         & 2              &                & 60,5           &                & 32             & Casanare       & bh-T           & 0              & 2              & yellow         & 162            & 133            & 54             & 7,74           & 14            \\\\\n",
       "\t M25              & PRO025A\\_PRO    & 180917           & 1                &                  & 90,5             &                  & 22               & Tolima           & bh-T             & 0                & 2                & light\\_yellow   & 108              & 102              & 68               & 3,58             & 0               \\\\\n",
       "\t M44            & PRO044A\\_C    & 190206         & 2              &                & 64             & C              & 22             & Brasil         & BRA            & 0              & 1              & red            & 115            &   2            &  0             & 11,51          & ND            \\\\\n",
       "\\end{tabular}\n"
      ],
      "text/markdown": [
       "\n",
       "SampleID | SampleNMR | Date_YMD | Probe | Shims | RG | Type | Folder | Origen | Zona | Type3 | Type2 | Color | R | G | B | Extracto | Resinas.. | \n",
       "|---|---|---|---|---|---|\n",
       "| M46            | PRO046B_PRO    | 190205         | 2              |                | 64             |                | 32             | Santander      | bh-PM          | 0              | 2              | reddish_brown  | 115            |   2            |  0             | 5,48           | ND             | \n",
       "| M47            | PRO047A_PRO    | 190205         | 2              |                | 50,8           |                | 32             | Santander      | bh-PM          | 0              | 2              | reddish_yellow | 246            |  99            |  1             | 4,23           | 65             | \n",
       "| M47            | PRO047B_PRO    | 190205         | 2              |                | 45,2           |                | 32             | Santander      | bh-PM          | 0              | 2              | reddish_yellow | 246            |  99            |  1             | 4,23           | 65             | \n",
       "| M48            | PRO048A_PRO    | 190118         | 2              |                | 60,5           |                | 32             | Casanare       | bh-T           | 0              | 2              | yellow         | 162            | 133            | 54             | 7,74           | 14             | \n",
       "| M25            | PRO025A_PRO    | 180917         | 1              |                | 90,5           |                | 22             | Tolima         | bh-T           | 0              | 2              | light_yellow   | 108            | 102            | 68             | 3,58           | 0              | \n",
       "| M44            | PRO044A_C      | 190206         | 2              |                | 64             | C              | 22             | Brasil         | BRA            | 0              | 1              | red            | 115            |   2            |  0             | 11,51          | ND             | \n",
       "\n",
       "\n"
      ],
      "text/plain": [
       "  SampleID SampleNMR   Date_YMD Probe Shims RG   Type Folder Origen    Zona \n",
       "1 M46      PRO046B_PRO 190205   2           64        32     Santander bh-PM\n",
       "2 M47      PRO047A_PRO 190205   2           50,8      32     Santander bh-PM\n",
       "3 M47      PRO047B_PRO 190205   2           45,2      32     Santander bh-PM\n",
       "4 M48      PRO048A_PRO 190118   2           60,5      32     Casanare  bh-T \n",
       "5 M25      PRO025A_PRO 180917   1           90,5      22     Tolima    bh-T \n",
       "6 M44      PRO044A_C   190206   2           64   C    22     Brasil    BRA  \n",
       "  Type3 Type2 Color          R   G   B  Extracto Resinas..\n",
       "1 0     2     reddish_brown  115   2  0 5,48     ND       \n",
       "2 0     2     reddish_yellow 246  99  1 4,23     65       \n",
       "3 0     2     reddish_yellow 246  99  1 4,23     65       \n",
       "4 0     2     yellow         162 133 54 7,74     14       \n",
       "5 0     2     light_yellow   108 102 68 3,58     0        \n",
       "6 0     1     red            115   2  0 11,51    ND       "
      ]
     },
     "metadata": {},
     "output_type": "display_data"
    }
   ],
   "source": [
    "library(MWASTools)\n",
    "\n",
    "library(MetaboMate)\n",
    "\n",
    "#Importing data from Github\n",
    "Metadata <-read.csv('https://raw.githubusercontent.com/davidgarciam/propolis_project/master/Propolis_data/Propoleo_metadata.csv', header= TRUE, sep= \";\")\n",
    "dim(Metadata)\n",
    "head(Metadata)"
   ]
  },
  {
   "cell_type": "code",
   "execution_count": 8,
   "metadata": {},
   "outputs": [
    {
     "data": {
      "text/html": [
       "<ol class=list-inline>\n",
       "\t<li>131072</li>\n",
       "\t<li>60</li>\n",
       "</ol>\n"
      ],
      "text/latex": [
       "\\begin{enumerate*}\n",
       "\\item 131072\n",
       "\\item 60\n",
       "\\end{enumerate*}\n"
      ],
      "text/markdown": [
       "1. 131072\n",
       "2. 60\n",
       "\n",
       "\n"
      ],
      "text/plain": [
       "[1] 131072     60"
      ]
     },
     "metadata": {},
     "output_type": "display_data"
    },
    {
     "data": {
      "text/html": [
       "<ol class=list-inline>\n",
       "\t<li>131072</li>\n",
       "\t<li>63</li>\n",
       "</ol>\n"
      ],
      "text/latex": [
       "\\begin{enumerate*}\n",
       "\\item 131072\n",
       "\\item 63\n",
       "\\end{enumerate*}\n"
      ],
      "text/markdown": [
       "1. 131072\n",
       "2. 63\n",
       "\n",
       "\n"
      ],
      "text/plain": [
       "[1] 131072     63"
      ]
     },
     "metadata": {},
     "output_type": "display_data"
    }
   ],
   "source": [
    "part1 <- read.csv('https://raw.githubusercontent.com/davidgarciam/propolis_project/master/Propolis_data/part1d.csv', header= T, sep= \",\")\n",
    "dim(part1)\n",
    "part2 <- read.csv('https://raw.githubusercontent.com/davidgarciam/propolis_project/master/Propolis_data/part2d.csv', header= T, sep= \",\")\n",
    "dim(part2)\n"
   ]
  },
  {
   "cell_type": "code",
   "execution_count": 9,
   "metadata": {},
   "outputs": [
    {
     "data": {
      "text/html": [
       "<ol class=list-inline>\n",
       "\t<li>131072</li>\n",
       "\t<li>123</li>\n",
       "</ol>\n"
      ],
      "text/latex": [
       "\\begin{enumerate*}\n",
       "\\item 131072\n",
       "\\item 123\n",
       "\\end{enumerate*}\n"
      ],
      "text/markdown": [
       "1. 131072\n",
       "2. 123\n",
       "\n",
       "\n"
      ],
      "text/plain": [
       "[1] 131072    123"
      ]
     },
     "metadata": {},
     "output_type": "display_data"
    }
   ],
   "source": [
    "X <- cbind(part1, part2)\n",
    "dim(X)\n",
    "colnames(X) <- seq_along(X[1,])"
   ]
  },
  {
   "cell_type": "code",
   "execution_count": 10,
   "metadata": {},
   "outputs": [
    {
     "data": {
      "text/html": [
       "<ol class=list-inline>\n",
       "\t<li>123</li>\n",
       "\t<li>131072</li>\n",
       "</ol>\n"
      ],
      "text/latex": [
       "\\begin{enumerate*}\n",
       "\\item 123\n",
       "\\item 131072\n",
       "\\end{enumerate*}\n"
      ],
      "text/markdown": [
       "1. 123\n",
       "2. 131072\n",
       "\n",
       "\n"
      ],
      "text/plain": [
       "[1]    123 131072"
      ]
     },
     "metadata": {},
     "output_type": "display_data"
    },
    {
     "data": {
      "text/html": [
       "<ol class=list-inline>\n",
       "\t<li>123</li>\n",
       "\t<li>18</li>\n",
       "</ol>\n"
      ],
      "text/latex": [
       "\\begin{enumerate*}\n",
       "\\item 123\n",
       "\\item 18\n",
       "\\end{enumerate*}\n"
      ],
      "text/markdown": [
       "1. 123\n",
       "2. 18\n",
       "\n",
       "\n"
      ],
      "text/plain": [
       "[1] 123  18"
      ]
     },
     "metadata": {},
     "output_type": "display_data"
    },
    {
     "data": {
      "text/html": [
       "<ol class=list-inline>\n",
       "\t<li>1</li>\n",
       "\t<li>131072</li>\n",
       "</ol>\n"
      ],
      "text/latex": [
       "\\begin{enumerate*}\n",
       "\\item 1\n",
       "\\item 131072\n",
       "\\end{enumerate*}\n"
      ],
      "text/markdown": [
       "1. 1\n",
       "2. 131072\n",
       "\n",
       "\n"
      ],
      "text/plain": [
       "[1]      1 131072"
      ]
     },
     "metadata": {},
     "output_type": "display_data"
    }
   ],
   "source": [
    "ppm <- read.csv('https://raw.githubusercontent.com/davidgarciam/propolis_project/master/Propolis_data/ppmpro_all_center.csv', header= FALSE)\n",
    "\n",
    "a_intensity <- t(X)\n",
    "ppm <- t(ppm)\n",
    "\n",
    "dim(a_intensity)\n",
    "dim(Metadata)\n",
    "dim(ppm)"
   ]
  },
  {
   "cell_type": "markdown",
   "metadata": {},
   "source": [
    "# Data pre-processing"
   ]
  },
  {
   "cell_type": "code",
   "execution_count": 11,
   "metadata": {},
   "outputs": [
    {
     "data": {
      "image/png": "[encoded data removed]",
      "text/plain": [
       "plot without title"
      ]
     },
     "metadata": {},
     "output_type": "display_data"
    }
   ],
   "source": [
    "#Bad shimming samples \n",
    "X <- a_intensity[c(-22, -25, -33, -36, -104, -112, -113, -119),]#Bad shimming samples\n",
    "Metadata_f <- Metadata[c(-22, -25, -33, -36, -104, -112, -113, -119),]#Bad shimming samples from metadata\n",
    "\n",
    "#Spectra Calibration\n",
    "X.cali=calibration(X, ppm, type='Urine')\n",
    "\n",
    "#Visualization\n",
    "Gray <- gray.colors(115, start=0.1, end=0.5, gamma=2.2, alpha=NULL)\n",
    "\n",
    "matplot(t(ppm),t(X.cali), type=(\"l\"), xlim = c(-0.05,0.05), ylim=c(-1e4, 1e7), xlab=\"ppm\", ylab=\"Intensity\", col=Gray)\n",
    "\n",
    "#Indexing of chemical shifts regions\n",
    "\n",
    "idx.TMS= get.idx(range=c(min(ppm),0.5), ppm)\n",
    "idx.meoh1= get.idx(range=c(3.15,3.29), ppm)\n",
    "idx.meoh2= get.idx(range=c(3.32,3.38), ppm)\n",
    "idx.meoh3= get.idx(range=c(3.51,3.54), ppm)\n",
    "idx.water= get.idx(range=c(4.84,4.94), ppm)\n",
    "idx.noise= get.idx(range=c(8.5,max(ppm)), ppm)\n",
    "\n",
    "#Excision of undesired regions\n",
    "\n",
    "X.cali=X.cali[,-c(idx.TMS, idx.meoh1, idx.meoh2, idx.meoh3, idx.water, idx.noise)]\n",
    "ppm.ex=ppm[-c(idx.TMS, idx.meoh1, idx.meoh2, idx.meoh3, idx.water, idx.noise)]\n",
    "\n",
    "#Baseline correction\n",
    "\n",
    "X.bl=bline(X.cali)\n"
   ]
  },
  {
   "cell_type": "markdown",
   "metadata": {},
   "source": [
    "# STOCSY"
   ]
  },
  {
   "cell_type": "markdown",
   "metadata": {},
   "source": [
    "## All samples"
   ]
  },
  {
   "cell_type": "code",
   "execution_count": 12,
   "metadata": {
    "scrolled": true
   },
   "outputs": [
    {
     "data": {
      "text/html": [
       "<ol class=list-inline>\n",
       "\t<li>115</li>\n",
       "\t<li>48904</li>\n",
       "</ol>\n"
      ],
      "text/latex": [
       "\\begin{enumerate*}\n",
       "\\item 115\n",
       "\\item 48904\n",
       "\\end{enumerate*}\n"
      ],
      "text/markdown": [
       "1. 115\n",
       "2. 48904\n",
       "\n",
       "\n"
      ],
      "text/plain": [
       "[1]   115 48904"
      ]
     },
     "metadata": {},
     "output_type": "display_data"
    },
    {
     "data": {
      "image/png": "[encoded data removed]",
      "text/plain": [
       "plot without title"
      ]
     },
     "metadata": {},
     "output_type": "display_data"
    }
   ],
   "source": [
    "dim(X.bl) #Spectra data matrix\n",
    "rownames(X.bl) <- Metadata_f$SampleNMR \n",
    "colnames(X.bl) <- ppm.ex\n",
    "\n",
    "metadata <- as.matrix(Metadata_f$Date_YMD) #Must be a numerical matrix\n",
    "rownames(metadata) <- Metadata_f$SampleNMR\n",
    "colnames(metadata) <- \"Fecha\"\n",
    "\n",
    "SampleType<- Metadata_f$Type3 #Sample type 1:QC ; 0: Experiment\n",
    "\n",
    "data_SE = MWAS_SummarizedExperiment(X.bl, metadata, SampleType)\n",
    "stocsy = STOCSY_NMR(data_SE, ppm_query = 6.83)\n"
   ]
  },
  {
   "cell_type": "markdown",
   "metadata": {},
   "source": [
    "## Red propolis"
   ]
  },
  {
   "cell_type": "code",
   "execution_count": 13,
   "metadata": {},
   "outputs": [
    {
     "data": {
      "text/html": [
       "<ol class=list-inline>\n",
       "\t<li>18</li>\n",
       "\t<li>48904</li>\n",
       "</ol>\n"
      ],
      "text/latex": [
       "\\begin{enumerate*}\n",
       "\\item 18\n",
       "\\item 48904\n",
       "\\end{enumerate*}\n"
      ],
      "text/markdown": [
       "1. 18\n",
       "2. 48904\n",
       "\n",
       "\n"
      ],
      "text/plain": [
       "[1]    18 48904"
      ]
     },
     "metadata": {},
     "output_type": "display_data"
    },
    {
     "data": {
      "image/png": "[encoded data removed]",
      "text/plain": [
       "plot without title"
      ]
     },
     "metadata": {},
     "output_type": "display_data"
    }
   ],
   "source": [
    "red_propolis <- subset(X, Metadata_f$Color==\"red\")\n",
    "\n",
    "red_propolis <- red_propolis[c(-1),]\n",
    "\n",
    "Metadata_red <- subset(Metadata_f, Metadata_f$Color==\"red\")\n",
    "\n",
    "Metadata_red <- Metadata_red[c(-1),]\n",
    "\n",
    "red_propolis.cali= calibration(red_propolis, ppm, type='Urine')\n",
    "\n",
    "red_propolis.cali= red_propolis.cali[,-c(idx.TMS, idx.meoh1, idx.meoh2, idx.meoh3, idx.water, idx.noise)]\n",
    "\n",
    "#Baseline correction\n",
    "\n",
    "red_propolis.bl= bline(red_propolis.cali)\n",
    "\n",
    "#Spectral normalisation\n",
    "\n",
    "red_propolis.pqn= pqn(red_propolis.bl, add.DilF = 'dilF.pqn')\n",
    "red_propolis.ta= totalArea(red_propolis.bl, add.DilF = 'dilF.ta')\n",
    "\n",
    "dim(red_propolis.bl) #Spectra data matrix\n",
    "rownames(red_propolis.bl) <- Metadata_red$SampleNMR \n",
    "colnames(red_propolis.bl) <- ppm.ex\n",
    "\n",
    "metadatared <- as.matrix(Metadata_red$Date_YMD) #Must be a numerical matrix\n",
    "rownames(metadatared) <- Metadata_red$SampleNMR\n",
    "colnames(metadatared) <- \"Fecha\"\n",
    "\n",
    "SampleTypered<- Metadata_red$Type3 #Sample type 1:QC ; 0: Experiment\n",
    "\n",
    "data_r = MWAS_SummarizedExperiment(red_propolis.bl, metadatared, SampleTypered)\n",
    "stocsy = STOCSY_NMR(data_r, ppm_query = 6.83)\n",
    "\n"
   ]
  }
 ],
 "metadata": {
  "kernelspec": {
   "display_name": "R",
   "language": "R",
   "name": "ir"
  },
  "language_info": {
   "codemirror_mode": "r",
   "file_extension": ".r",
   "mimetype": "text/x-r-source",
   "name": "R",
   "pygments_lexer": "r",
   "version": "3.5.1"
  }
 },
 "nbformat": 4,
 "nbformat_minor": 2
}
